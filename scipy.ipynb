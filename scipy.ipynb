{
  "nbformat": 4,
  "nbformat_minor": 0,
  "metadata": {
    "colab": {
      "provenance": [],
      "authorship_tag": "ABX9TyNNt45dXRM6xbptt1UqQHHc",
      "include_colab_link": true
    },
    "kernelspec": {
      "name": "python3",
      "display_name": "Python 3"
    },
    "language_info": {
      "name": "python"
    }
  },
  "cells": [
    {
      "cell_type": "markdown",
      "metadata": {
        "id": "view-in-github",
        "colab_type": "text"
      },
      "source": [
        "<a href=\"https://colab.research.google.com/github/16Yogi/python_scipy/blob/main/scipy.ipynb\" target=\"_parent\"><img src=\"https://colab.research.google.com/assets/colab-badge.svg\" alt=\"Open In Colab\"/></a>"
      ]
    },
    {
      "cell_type": "code",
      "execution_count": null,
      "metadata": {
        "colab": {
          "base_uri": "https://localhost:8080/"
        },
        "id": "pfBwQCl8C4Qg",
        "outputId": "d13121d2-d8b2-462b-aa3b-009eca0f946c"
      },
      "outputs": [
        {
          "output_type": "stream",
          "name": "stdout",
          "text": [
            "1.16.0\n"
          ]
        }
      ],
      "source": [
        "import scipy\n",
        "\n",
        "print(scipy.__version__)"
      ]
    },
    {
      "cell_type": "markdown",
      "source": [
        "**SciPy**\n",
        "\n",
        "- SciPy is a scientific computation library that uses NumPy underneath.\n",
        "- SciPy stands for Scientific Python.\n",
        "- It provides more utility functions for optimization, stats and signal processing.\n",
        "- Like NumPy, SciPy is open source so we can use it freely.\n",
        "- SciPy was created by NumPy's creator Travis Olliphant.\n",
        "\n",
        "\n",
        "\n",
        "**Language is SciPy Written In**\n",
        "\n",
        "SciPy is predominantly written in Python, but a few segments are written in C.\n",
        "\n",
        "\n",
        "\n",
        "\n"
      ],
      "metadata": {
        "id": "xaPdN2oVfVp1"
      }
    },
    {
      "cell_type": "markdown",
      "source": [
        "**Installation of SciPy**\n",
        "\n",
        "`pip install scipy`\n",
        "\n",
        "\n",
        "**Constants:** Scipy offers a set of mathematical constants, one of them is **liter** which returns 1 liter as cubic meters.\n",
        "\n",
        "**Note:** Two underscore characters are user in `__version__`."
      ],
      "metadata": {
        "id": "dp6MiG57gCMY"
      }
    },
    {
      "cell_type": "code",
      "source": [
        "from scipy import constants\n",
        "import scipy\n",
        "\n",
        "print(constants.liter)\n",
        "\n",
        "print(scipy.__version__)"
      ],
      "metadata": {
        "colab": {
          "base_uri": "https://localhost:8080/"
        },
        "id": "6Q18ZYscgT0y",
        "outputId": "6ea3c301-7dcc-4da7-f1ed-9d8702a8d4a8"
      },
      "execution_count": null,
      "outputs": [
        {
          "output_type": "stream",
          "name": "stdout",
          "text": [
            "0.001\n",
            "1.16.1\n"
          ]
        }
      ]
    },
    {
      "cell_type": "markdown",
      "source": [
        "**Constants**\n",
        "\n",
        "As SciPy is more focused on scientific implementations, it provides many build-in scientific constants.\n",
        "\n"
      ],
      "metadata": {
        "id": "zLj7Lz1aCYF6"
      }
    },
    {
      "cell_type": "code",
      "source": [
        "from scipy import constants\n",
        "print(constants.pi)\n",
        "print(dir(constants))\n",
        "print(constants.yotta)\n",
        "print(constants.zetta)\n",
        "print(constants.exa)\n",
        "print(constants.peta)\n",
        "print(constants.tera)\n",
        "print(constants.giga)\n",
        "print(constants.mega)\n",
        "print(constants.kilo)\n",
        "print(constants.hecto)\n",
        "print(constants.deka)\n",
        "print(constants.deci)\n",
        "print(constants.centi)\n",
        "print(constants.milli)\n",
        "print(constants.micro)\n",
        "print(constants.nano)\n",
        "print(constants.pico)\n",
        "print(constants.femto)\n",
        "print(constants.atto)\n",
        "print(constants.zepto)\n",
        "\n"
      ],
      "metadata": {
        "colab": {
          "base_uri": "https://localhost:8080/"
        },
        "id": "lUy0z_3wCo7u",
        "outputId": "d4eb31c1-8645-41a3-da79-117d149545e4"
      },
      "execution_count": null,
      "outputs": [
        {
          "output_type": "stream",
          "name": "stdout",
          "text": [
            "3.141592653589793\n",
            "['Avogadro', 'Boltzmann', 'Btu', 'Btu_IT', 'Btu_th', 'ConstantWarning', 'G', 'Julian_year', 'N_A', 'Planck', 'R', 'Rydberg', 'Stefan_Boltzmann', 'Wien', '__all__', '__builtins__', '__cached__', '__doc__', '__file__', '__loader__', '__name__', '__package__', '__path__', '__spec__', '_codata', '_constants', '_obsolete_constants', 'acre', 'alpha', 'angstrom', 'arcmin', 'arcminute', 'arcsec', 'arcsecond', 'astronomical_unit', 'atm', 'atmosphere', 'atomic_mass', 'atto', 'au', 'bar', 'barrel', 'bbl', 'blob', 'c', 'calorie', 'calorie_IT', 'calorie_th', 'carat', 'centi', 'codata', 'constants', 'convert_temperature', 'day', 'deci', 'degree', 'degree_Fahrenheit', 'deka', 'dyn', 'dyne', 'e', 'eV', 'electron_mass', 'electron_volt', 'elementary_charge', 'epsilon_0', 'erg', 'exa', 'exbi', 'femto', 'fermi', 'find', 'fine_structure', 'fluid_ounce', 'fluid_ounce_US', 'fluid_ounce_imp', 'foot', 'g', 'gallon', 'gallon_US', 'gallon_imp', 'gas_constant', 'gibi', 'giga', 'golden', 'golden_ratio', 'grain', 'gram', 'gravitational_constant', 'h', 'hbar', 'hectare', 'hecto', 'horsepower', 'hour', 'hp', 'inch', 'k', 'kgf', 'kibi', 'kilo', 'kilogram_force', 'kmh', 'knot', 'lambda2nu', 'lb', 'lbf', 'light_year', 'liter', 'litre', 'long_ton', 'm_e', 'm_n', 'm_p', 'm_u', 'mach', 'mebi', 'mega', 'metric_ton', 'micro', 'micron', 'mil', 'mile', 'milli', 'minute', 'mmHg', 'mph', 'mu_0', 'nano', 'nautical_mile', 'neutron_mass', 'nu2lambda', 'ounce', 'oz', 'parsec', 'pebi', 'peta', 'physical_constants', 'pi', 'pico', 'point', 'pound', 'pound_force', 'precision', 'proton_mass', 'psi', 'pt', 'quecto', 'quetta', 'ronna', 'ronto', 'short_ton', 'sigma', 'slinch', 'slug', 'speed_of_light', 'speed_of_sound', 'stone', 'survey_foot', 'survey_mile', 'tebi', 'tera', 'test', 'ton_TNT', 'torr', 'troy_ounce', 'troy_pound', 'u', 'unit', 'value', 'week', 'yard', 'year', 'yobi', 'yocto', 'yotta', 'zebi', 'zepto', 'zero_Celsius', 'zetta']\n",
            "1e+24\n",
            "1e+21\n",
            "1e+18\n",
            "1000000000000000.0\n",
            "1000000000000.0\n",
            "1000000000.0\n",
            "1000000.0\n",
            "1000.0\n",
            "100.0\n",
            "10.0\n",
            "0.1\n",
            "0.01\n",
            "0.001\n",
            "1e-06\n",
            "1e-09\n",
            "1e-12\n",
            "1e-15\n",
            "1e-18\n",
            "1e-21\n"
          ]
        }
      ]
    },
    {
      "cell_type": "markdown",
      "source": [
        "**Binary Prefixes**\n",
        "\n",
        "Return the specified unit in bytes(e.g. kibi returns 1024)\n"
      ],
      "metadata": {
        "id": "zf_Ef1FrEW3o"
      }
    },
    {
      "cell_type": "code",
      "source": [
        "from scipy import constants\n",
        "\n",
        "print(constants.kibi)\n",
        "print(constants.mebi)\n",
        "print(constants.gibi)\n",
        "print(constants.tebi)\n",
        "print(constants.pebi)\n",
        "print(constants.exbi)\n",
        "print(constants.zebi)\n",
        "print(constants.yobi)\n"
      ],
      "metadata": {
        "colab": {
          "base_uri": "https://localhost:8080/"
        },
        "id": "IrAl2z8AEjRU",
        "outputId": "21352d6f-4e7c-4045-817f-4026d2304e34"
      },
      "execution_count": null,
      "outputs": [
        {
          "output_type": "stream",
          "name": "stdout",
          "text": [
            "1024\n",
            "1048576\n",
            "1073741824\n",
            "1099511627776\n",
            "1125899906842624\n",
            "1152921504606846976\n",
            "1180591620717411303424\n",
            "1208925819614629174706176\n"
          ]
        }
      ]
    },
    {
      "cell_type": "markdown",
      "source": [
        "**Mass**\n",
        "\n",
        "Return the specified unit in kg(e.g. gram returns 0.001)\n"
      ],
      "metadata": {
        "id": "NbxPTHWFFXVH"
      }
    },
    {
      "cell_type": "code",
      "source": [
        "from scipy import constants\n",
        "\n",
        "print(constants.gram)\n",
        "print(constants.metric_ton)\n",
        "print(constants.grain)\n",
        "print(constants.lb)\n",
        "print(constants.pound)\n",
        "print(constants.oz)\n",
        "print(constants.ounce)\n",
        "print(constants.stone)\n",
        "print(constants.long_ton)\n",
        "print(constants.short_ton)\n",
        "print(constants.troy_ounce)\n",
        "print(constants.carat)\n",
        "print(constants.atomic_mass)\n",
        "print(constants.m_u)\n",
        "print(constants.u)"
      ],
      "metadata": {
        "colab": {
          "base_uri": "https://localhost:8080/"
        },
        "id": "DQEaMOc5FhuA",
        "outputId": "88c4db4a-ac9c-432a-84e7-898474669630"
      },
      "execution_count": null,
      "outputs": [
        {
          "output_type": "stream",
          "name": "stdout",
          "text": [
            "0.001\n",
            "1000.0\n",
            "6.479891e-05\n",
            "0.45359236999999997\n",
            "0.45359236999999997\n",
            "0.028349523124999998\n",
            "0.028349523124999998\n",
            "6.3502931799999995\n",
            "1016.0469088\n",
            "907.1847399999999\n",
            "0.031103476799999998\n",
            "0.0002\n",
            "1.66053906892e-27\n",
            "1.66053906892e-27\n",
            "1.66053906892e-27\n"
          ]
        }
      ]
    },
    {
      "cell_type": "markdown",
      "source": [
        "**Angle**\n",
        "\n",
        "Return the specified in radians(e.g. degree returns 0.017453292519943295)"
      ],
      "metadata": {
        "id": "ojxgwWSjGVhE"
      }
    },
    {
      "cell_type": "code",
      "source": [
        "from scipy import constants\n",
        "\n",
        "print(constants.degree)\n",
        "print(constants.arcmin)\n",
        "print(constants.arcmin)\n",
        "print(constants.arcsec)\n",
        "print(constants.arcsecond)\n"
      ],
      "metadata": {
        "colab": {
          "base_uri": "https://localhost:8080/"
        },
        "id": "o4PW3KKKGnM_",
        "outputId": "bb2b4f8c-79d0-47da-d207-c7c6f307acc9"
      },
      "execution_count": null,
      "outputs": [
        {
          "output_type": "stream",
          "name": "stdout",
          "text": [
            "0.017453292519943295\n",
            "0.0002908882086657216\n",
            "0.0002908882086657216\n",
            "4.84813681109536e-06\n",
            "4.84813681109536e-06\n"
          ]
        }
      ]
    },
    {
      "cell_type": "markdown",
      "source": [
        "**Time**\n",
        "\n",
        "Return the specified unit in seconds(e.g. hour returns 3600.0)"
      ],
      "metadata": {
        "id": "r_-WPjRFG77a"
      }
    },
    {
      "cell_type": "code",
      "source": [
        "from scipy import constants\n",
        "\n",
        "print(constants.minute)\n",
        "print(constants.hour)\n",
        "print(constants.day)\n",
        "print(constants.week)\n",
        "print(constants.year)\n",
        "print(constants.Julian_year)"
      ],
      "metadata": {
        "colab": {
          "base_uri": "https://localhost:8080/"
        },
        "id": "gHxGdg1uHFB4",
        "outputId": "e0c0298a-e262-436a-d222-e02f6edca133"
      },
      "execution_count": null,
      "outputs": [
        {
          "output_type": "stream",
          "name": "stdout",
          "text": [
            "60.0\n",
            "3600.0\n",
            "86400.0\n",
            "604800.0\n",
            "31536000.0\n",
            "31557600.0\n"
          ]
        }
      ]
    },
    {
      "cell_type": "markdown",
      "source": [
        "**Length**\n",
        "\n",
        "Return the specified unit in meters(e.g. nautical_mile returns 1852.0)\n"
      ],
      "metadata": {
        "id": "07dh3W7tHfl2"
      }
    },
    {
      "cell_type": "code",
      "source": [
        "from scipy import constants\n",
        "\n",
        "print(constants.inch)\n",
        "print(constants.foot)\n",
        "print(constants.yard)\n",
        "print(constants.mile)\n",
        "print(constants.mil)\n",
        "print(constants.pt)\n",
        "print(constants.point)\n",
        "print(constants.survey_foot)\n",
        "print(constants.survey_mile)\n",
        "print(constants.nautical_mile)\n",
        "print(constants.fermi)\n",
        "print(constants.angstrom)\n",
        "print(constants.micron)\n",
        "print(constants.au)\n",
        "print(constants.astronomical_unit)\n",
        "print(constants.light_year)\n",
        "print(constants.parsec)"
      ],
      "metadata": {
        "colab": {
          "base_uri": "https://localhost:8080/"
        },
        "id": "1ZMcUZt-HqTP",
        "outputId": "e324dcb7-05f1-4896-fdc6-b29f54b67f2e"
      },
      "execution_count": null,
      "outputs": [
        {
          "output_type": "stream",
          "name": "stdout",
          "text": [
            "0.0254\n",
            "0.30479999999999996\n",
            "0.9143999999999999\n",
            "1609.3439999999998\n",
            "2.5399999999999997e-05\n",
            "0.00035277777777777776\n",
            "0.00035277777777777776\n",
            "0.3048006096012192\n",
            "1609.3472186944373\n",
            "1852.0\n",
            "1e-15\n",
            "1e-10\n",
            "1e-06\n",
            "149597870700.0\n",
            "149597870700.0\n",
            "9460730472580800.0\n",
            "3.085677581491367e+16\n"
          ]
        }
      ]
    },
    {
      "cell_type": "markdown",
      "source": [
        "**Pressure**\n",
        "\n",
        "Return the specified unit in pascals (e.g. psi rturns 6894.757293168361)"
      ],
      "metadata": {
        "id": "ufqbsemeIq2E"
      }
    },
    {
      "cell_type": "code",
      "source": [
        "from scipy import constants\n",
        "\n",
        "print(constants.atm)\n",
        "print(constants.atmosphere)\n",
        "print(constants.bar)\n",
        "print(constants.torr)\n",
        "print(constants.mmHg)\n",
        "print(constants.psi)"
      ],
      "metadata": {
        "colab": {
          "base_uri": "https://localhost:8080/"
        },
        "id": "j0oWcHIoI9VX",
        "outputId": "7b4180ad-3cb3-47ef-ed44-a3abddb28871"
      },
      "execution_count": null,
      "outputs": [
        {
          "output_type": "stream",
          "name": "stdout",
          "text": [
            "101325.0\n",
            "101325.0\n",
            "100000.0\n",
            "133.32236842105263\n",
            "133.32236842105263\n",
            "6894.757293168361\n"
          ]
        }
      ]
    },
    {
      "cell_type": "markdown",
      "source": [
        "**Area**\n",
        "\n",
        "Return the specified unit in square meters (e.g. hectare returns 10000.0)"
      ],
      "metadata": {
        "id": "TbuhNESaJMu8"
      }
    },
    {
      "cell_type": "code",
      "source": [
        "from scipy import constants\n",
        "\n",
        "print(constants.hectare)\n",
        "print(constants.acre)"
      ],
      "metadata": {
        "colab": {
          "base_uri": "https://localhost:8080/"
        },
        "id": "O41xwZuAJW_c",
        "outputId": "9b13a4a1-292d-4564-e4ed-dbb617a3d81e"
      },
      "execution_count": null,
      "outputs": [
        {
          "output_type": "stream",
          "name": "stdout",
          "text": [
            "10000.0\n",
            "4046.8564223999992\n"
          ]
        }
      ]
    },
    {
      "cell_type": "markdown",
      "source": [
        "**Volume**\n",
        "\n",
        "Return the specified unit in cubic meters (e.g. liter returns 0.001)\n"
      ],
      "metadata": {
        "id": "TdaMOa5iJh_0"
      }
    },
    {
      "cell_type": "code",
      "source": [
        "from scipy import constants\n",
        "\n",
        "print(constants.liter)\n",
        "print(constants.gallon)\n",
        "print(constants.gallon_US)\n",
        "print(constants.gallon_imp)\n",
        "print(constants.fluid_ounce)\n",
        "print(constants.fluid_ounce_US)\n",
        "print(constants.fluid_ounce_imp)\n",
        "print(constants.barrel)\n",
        "print(constants.bbl)"
      ],
      "metadata": {
        "colab": {
          "base_uri": "https://localhost:8080/"
        },
        "id": "jCzOdfvRJrot",
        "outputId": "1c3bd557-8515-484a-f226-da86c54163df"
      },
      "execution_count": null,
      "outputs": [
        {
          "output_type": "stream",
          "name": "stdout",
          "text": [
            "0.001\n",
            "0.0037854117839999997\n",
            "0.0037854117839999997\n",
            "0.00454609\n",
            "2.9573529562499998e-05\n",
            "2.9573529562499998e-05\n",
            "2.84130625e-05\n",
            "0.15898729492799998\n",
            "0.15898729492799998\n"
          ]
        }
      ]
    },
    {
      "cell_type": "markdown",
      "source": [
        "**Speed**\n",
        "\n",
        "Return the specified unit in meters per second (e.g. speed_of_sound returns 340.5)"
      ],
      "metadata": {
        "id": "yLs22-YsKSie"
      }
    },
    {
      "cell_type": "code",
      "source": [
        "from scipy import constants\n",
        "\n",
        "print(constants.kmh)\n",
        "print(constants.mph)\n",
        "print(constants.mach)\n",
        "print(constants.speed_of_sound)\n",
        "print(constants.knot)"
      ],
      "metadata": {
        "colab": {
          "base_uri": "https://localhost:8080/"
        },
        "id": "BuL2FFDDKcK0",
        "outputId": "c61f78a7-7625-4919-9adc-cb01ddcf0410"
      },
      "execution_count": null,
      "outputs": [
        {
          "output_type": "stream",
          "name": "stdout",
          "text": [
            "0.2777777777777778\n",
            "0.44703999999999994\n",
            "340.5\n",
            "340.5\n",
            "0.5144444444444445\n"
          ]
        }
      ]
    },
    {
      "cell_type": "markdown",
      "source": [
        "**Temperature**\n",
        "\n",
        "Return the specified unit in Kelvin(e.g. zero_Celsius return 273.15)\n"
      ],
      "metadata": {
        "id": "Mu-iZcUYKrQI"
      }
    },
    {
      "cell_type": "code",
      "source": [
        "from scipy import constants\n",
        "\n",
        "print(constants.zero_Celsius)\n",
        "print(constants.degree_Fahrenheit)"
      ],
      "metadata": {
        "colab": {
          "base_uri": "https://localhost:8080/"
        },
        "id": "5HvdnN5PLN5A",
        "outputId": "a6084bda-f72c-46c3-91ee-a3d162aa676a"
      },
      "execution_count": null,
      "outputs": [
        {
          "output_type": "stream",
          "name": "stdout",
          "text": [
            "273.15\n",
            "0.5555555555555556\n"
          ]
        }
      ]
    },
    {
      "cell_type": "markdown",
      "source": [
        "**Energy**\n",
        "\n",
        "Return the specified unit in Joules(e.g. calorie returns 4.184)"
      ],
      "metadata": {
        "id": "h4D_IQCBLb1K"
      }
    },
    {
      "cell_type": "code",
      "source": [
        "from scipy import constants\n",
        "\n",
        "print(constants.eV)\n",
        "print(constants.electron_volt)\n",
        "print(constants.calorie)\n",
        "print(constants.calorie_th)\n",
        "print(constants.calorie_IT)\n",
        "print(constants.erg)\n",
        "print(constants.Btu)\n",
        "print(constants.Btu_IT)\n",
        "print(constants.Btu_th)\n",
        "print(constants.ton_TNT)"
      ],
      "metadata": {
        "colab": {
          "base_uri": "https://localhost:8080/"
        },
        "id": "MmEpbDyvLlzp",
        "outputId": "d830175a-c9fa-43d5-8e11-a4e3707c88f7"
      },
      "execution_count": null,
      "outputs": [
        {
          "output_type": "stream",
          "name": "stdout",
          "text": [
            "1.602176634e-19\n",
            "1.602176634e-19\n",
            "4.184\n",
            "4.184\n",
            "4.1868\n",
            "1e-07\n",
            "1055.05585262\n",
            "1055.05585262\n",
            "1054.3502644888888\n",
            "4184000000.0\n"
          ]
        }
      ]
    },
    {
      "cell_type": "markdown",
      "source": [
        "**Power**\n",
        "\n",
        "Return the specified unit in watts(e.g. horsepower returns 745.6998715822701 )"
      ],
      "metadata": {
        "id": "GB_GtiYvMUZ0"
      }
    },
    {
      "cell_type": "code",
      "source": [
        "from scipy import constants\n",
        "\n",
        "print(constants.hp)\n",
        "print(constants.horsepower)"
      ],
      "metadata": {
        "colab": {
          "base_uri": "https://localhost:8080/"
        },
        "id": "wXTYDX8zMe_3",
        "outputId": "7fcad19d-90a4-4583-aec2-d7a7092c9ff9"
      },
      "execution_count": null,
      "outputs": [
        {
          "output_type": "stream",
          "name": "stdout",
          "text": [
            "745.6998715822701\n",
            "745.6998715822701\n"
          ]
        }
      ]
    },
    {
      "cell_type": "markdown",
      "source": [
        "**Force**\n",
        "\n",
        "Return the specified unit in newton (e.g. kilogram_force return 9.80665)\n"
      ],
      "metadata": {
        "id": "eENk6pT-MsR2"
      }
    },
    {
      "cell_type": "code",
      "source": [
        "from scipy import constants\n",
        "\n",
        "print(constants.dyn)\n",
        "print(constants.dyne)\n",
        "print(constants.lbf)\n",
        "print(constants.pound_force)\n",
        "print(constants.kgf)\n",
        "print(constants.kilogram_force)"
      ],
      "metadata": {
        "colab": {
          "base_uri": "https://localhost:8080/"
        },
        "id": "-C1mLmtLM23L",
        "outputId": "8cb670fa-d1ba-4bb0-fd98-8305bffe568b"
      },
      "execution_count": null,
      "outputs": [
        {
          "output_type": "stream",
          "name": "stdout",
          "text": [
            "1e-05\n",
            "1e-05\n",
            "4.4482216152605\n",
            "4.4482216152605\n",
            "9.80665\n",
            "9.80665\n"
          ]
        }
      ]
    },
    {
      "cell_type": "markdown",
      "source": [
        "**Optimizers**\n",
        "\n",
        "Optimizers are a set of procedures defined in Scipy that either find the minimum value of a function, or the root of an equation.\n",
        "\n",
        "**Roots of an equation**\n",
        "\n",
        "NumPy is capable of finding in Machine Learning are nothing more than a complex equation that needs to be minimized with the help of given data.\n",
        "\n",
        "**Root of an Equation**\n",
        "\n",
        "NumPy is capable of finding roots for polynomials and linear equations, but it can find roots for non linear equations, like this one:\n",
        "\n",
        "`x + cos(x)`\n",
        "\n",
        "- For that you can use SciPy's optimize.root function.\n",
        "- This function takes two required arguments\n",
        "- *fun* - a function representing an equation.\n",
        "- *x0* - an initial guess for the root.\n",
        "\n",
        "The function returns an returns an object with information regarding the solution.\n",
        "\n",
        "The actual solution is given under attribut x of the returned object."
      ],
      "metadata": {
        "id": "-RB94zc8NaVt"
      }
    },
    {
      "cell_type": "code",
      "source": [
        "from scipy.optimize import root\n",
        "from math import cos\n",
        "\n",
        "def eqn(x):\n",
        "  return x+cos(x)\n",
        "\n",
        "myroot = root(eqn,0)\n",
        "\n",
        "print(myroot.x)\n"
      ],
      "metadata": {
        "colab": {
          "base_uri": "https://localhost:8080/"
        },
        "id": "Kqg81uLTPhyg",
        "outputId": "fdda870f-975b-4b1d-85ee-92ed852bac97"
      },
      "execution_count": null,
      "outputs": [
        {
          "output_type": "stream",
          "name": "stdout",
          "text": [
            "[-0.73908513]\n"
          ]
        },
        {
          "output_type": "stream",
          "name": "stderr",
          "text": [
            "/tmp/ipython-input-2068495635.py:5: DeprecationWarning: Conversion of an array with ndim > 0 to a scalar is deprecated, and will error in future. Ensure you extract a single element from your array before performing this operation. (Deprecated NumPy 1.25.)\n",
            "  return x+cos(x)\n"
          ]
        }
      ]
    },
    {
      "cell_type": "markdown",
      "source": [
        "**Minimizing a function**\n",
        "\n",
        "A function, in this context, represents a curve, curves have high points and low points.\n",
        "\n",
        "High points are called maxima.\n",
        "\n",
        "Low points are called minima.\n",
        "\n",
        "The highest point in the whole curve is called global maxima, whereas the rest of them are called local maxima.\n",
        "\n",
        "The lowest point in whole curse is called global minima, whereas, whereas the rest of them are called local minima.\n",
        "\n",
        "\n",
        "\n",
        "**Finding Minima**\n",
        "\n",
        "We can use scipy.optimize.minimize()  function to minimize the function.\n",
        "\n",
        "The minimize() function  takes the following arguments:\n",
        "\n",
        "- fun  - a function representing an equation.\n",
        "- x0 - an initial guess for the root.\n",
        "- method - name of the method to use. Legal value:\n",
        "\n",
        "`CG`\n",
        "\n",
        "`BFGS`\n",
        "\n",
        "`Newton-CG`\n",
        "\n",
        "`L-BFGS-B`\n",
        "\n",
        "`TNC`\n",
        "\n",
        "`COBYLA`\n",
        "\n",
        "`SLSQP`\n",
        "\n",
        "*-callback* - function called after each iteration of optimization.\n",
        "\n",
        "*-options* - a dictionary defining extra params:\n",
        "\n"
      ],
      "metadata": {
        "id": "CQis2hG9P6f4"
      }
    },
    {
      "cell_type": "code",
      "source": [
        "from scipy.optimize import minimize\n",
        "\n",
        "def eqn(x):\n",
        "  return x ** 2 + x + 2\n",
        "\n",
        "mymin = minimize(eqn,0,method='BFGS')\n",
        "\n",
        "print(mymin)"
      ],
      "metadata": {
        "colab": {
          "base_uri": "https://localhost:8080/"
        },
        "id": "3UmVj7ejTp-O",
        "outputId": "a547d19b-b8fe-46eb-e2ee-f63e0c37f68b"
      },
      "execution_count": null,
      "outputs": [
        {
          "output_type": "stream",
          "name": "stdout",
          "text": [
            "  message: Optimization terminated successfully.\n",
            "  success: True\n",
            "   status: 0\n",
            "      fun: 1.75\n",
            "        x: [-5.000e-01]\n",
            "      nit: 2\n",
            "      jac: [ 0.000e+00]\n",
            " hess_inv: [[ 5.000e-01]]\n",
            "     nfev: 8\n",
            "     njev: 4\n"
          ]
        }
      ]
    },
    {
      "cell_type": "markdown",
      "source": [
        "*Spare Data*\n",
        "\n",
        "Sparse data is data that has mostly unused elements.\n",
        "\n",
        "It can be an array like this one\n",
        "\n",
        "[1,0,2,0,3,0,0,0,0,0,0]\n",
        "\n",
        "*Spare Data:* is a data set where most of the item values are zero.\n",
        "\n",
        "*Dense Array:* is the opposite of a sparse array: most of the values are not zero.\n",
        "\n",
        "\n",
        "- SciPy has a module, scipy.sparese that provides functions to deal with sparse data.\n",
        "- There are primarily two types of sparse matrices that we use\n",
        "-*CSC -* Compressed Sparse column. For efficient arithmetic, fast column slicing.\n",
        "- *CSR -* Compressed Sparse Row. For fast row slicing, faster matrix vector products.\n",
        "\n",
        "We will use the CSR matrix in this tutorial.\n",
        "\n",
        "\n",
        "*CSR Matrix*\n",
        "\n",
        "We can create CSR matrix by passing an array into function scipy.sparse.csr_matrix().\n",
        "\n"
      ],
      "metadata": {
        "id": "YwsKJtRaUM4R"
      }
    },
    {
      "cell_type": "code",
      "source": [
        "import numpy as np\n",
        "from scipy.sparse import csr_matrix\n",
        "\n",
        "arr = np.array([0, 0, 0, 0, 0, 1, 1, 0, 2])\n",
        "\n",
        "print(csr_matrix(arr))"
      ],
      "metadata": {
        "colab": {
          "base_uri": "https://localhost:8080/"
        },
        "id": "e_K_AjlVVdGu",
        "outputId": "39b35067-a710-4301-e3cf-c674e80432f8"
      },
      "execution_count": null,
      "outputs": [
        {
          "output_type": "stream",
          "name": "stdout",
          "text": [
            "<Compressed Sparse Row sparse matrix of dtype 'int64'\n",
            "\twith 3 stored elements and shape (1, 9)>\n",
            "  Coords\tValues\n",
            "  (0, 5)\t1\n",
            "  (0, 6)\t1\n",
            "  (0, 8)\t2\n"
          ]
        }
      ]
    },
    {
      "cell_type": "markdown",
      "source": [
        "*Sparse Matrix Methods*\n",
        "\n",
        "Viewing stored data with the data property"
      ],
      "metadata": {
        "id": "oKF_UN6DV1NS"
      }
    },
    {
      "cell_type": "code",
      "source": [
        "import numpy as np\n",
        "from scipy.sparse import csr_matrix\n",
        "\n",
        "arr = np.array([[0, 0, 0], [0, 0, 1], [1, 0, 2]])\n",
        "print(csr_matrix(arr).data)"
      ],
      "metadata": {
        "colab": {
          "base_uri": "https://localhost:8080/"
        },
        "id": "t_Kusrk2V9-z",
        "outputId": "9ca744fa-b82f-45b8-f48b-89064a131827"
      },
      "execution_count": null,
      "outputs": [
        {
          "output_type": "stream",
          "name": "stdout",
          "text": [
            "[1 1 2]\n"
          ]
        }
      ]
    },
    {
      "cell_type": "code",
      "source": [
        "import numpy as np\n",
        "from scipy.sparse import csr_matrix\n",
        "\n",
        "arr = np.array([[0,0,0],[0,0,1],[1,0,2]])\n",
        "print(csr_matrix(arr).count_nonzero())"
      ],
      "metadata": {
        "colab": {
          "base_uri": "https://localhost:8080/"
        },
        "id": "4ILs19LhYLej",
        "outputId": "d5181083-5ba6-4101-d8ce-a8e7a83adddf"
      },
      "execution_count": null,
      "outputs": [
        {
          "output_type": "stream",
          "name": "stdout",
          "text": [
            "3\n"
          ]
        }
      ]
    },
    {
      "cell_type": "markdown",
      "source": [
        "Removing zero-entries from the matrix with the `eliminate_zeros()` methods"
      ],
      "metadata": {
        "id": "LTvqegY3Ys74"
      }
    },
    {
      "cell_type": "code",
      "source": [
        "import numpy as np\n",
        "from scipy.sparse import csr_matrix\n",
        "\n",
        "arr = np.array([[0,0,0],[0,0,1],[1,0,2]])\n",
        "\n",
        "mat = csr_matrix(arr)\n",
        "mat.eliminate_zeros()\n",
        "\n",
        "print(mat)"
      ],
      "metadata": {
        "colab": {
          "base_uri": "https://localhost:8080/"
        },
        "id": "WZx2CwgXY08l",
        "outputId": "a2b99f4e-275b-45dd-d85e-8ee2e3834498"
      },
      "execution_count": null,
      "outputs": [
        {
          "output_type": "stream",
          "name": "stdout",
          "text": [
            "<Compressed Sparse Row sparse matrix of dtype 'int64'\n",
            "\twith 3 stored elements and shape (3, 3)>\n",
            "  Coords\tValues\n",
            "  (1, 2)\t1\n",
            "  (2, 0)\t1\n",
            "  (2, 2)\t2\n"
          ]
        }
      ]
    },
    {
      "cell_type": "markdown",
      "source": [
        "Eliminating duplicate entries with the `sum_duplicates()` method"
      ],
      "metadata": {
        "id": "2oBKg-fcZHMP"
      }
    },
    {
      "cell_type": "code",
      "source": [
        "import numpy as np\n",
        "from scipy.sparse import csr_matrix\n",
        "\n",
        "arr = np.array([[0, 0, 0], [0, 0, 1], [1, 0, 2]])\n",
        "\n",
        "mat = csr_matrix(arr)\n",
        "mat.sum_duplicates()\n",
        "\n",
        "print(mat)"
      ],
      "metadata": {
        "colab": {
          "base_uri": "https://localhost:8080/"
        },
        "id": "J25ZlFxLZNbs",
        "outputId": "80b70391-ba9b-44c5-ba34-1e8b2a8ebe2b"
      },
      "execution_count": null,
      "outputs": [
        {
          "output_type": "stream",
          "name": "stdout",
          "text": [
            "<Compressed Sparse Row sparse matrix of dtype 'int64'\n",
            "\twith 3 stored elements and shape (3, 3)>\n",
            "  Coords\tValues\n",
            "  (1, 2)\t1\n",
            "  (2, 0)\t1\n",
            "  (2, 2)\t2\n"
          ]
        }
      ]
    },
    {
      "cell_type": "markdown",
      "source": [
        "Converting from csr to csc with `tocsc()` method\n",
        "\n",
        "*Note-* Apart from the mentioned sparse specific operations, sparse matrices support all of the operations that normal matrices suppor reshaping, summing, arithemetic, broadcasting etc."
      ],
      "metadata": {
        "id": "uXjBGj-EZ-1j"
      }
    },
    {
      "cell_type": "code",
      "source": [
        "import numpy as np\n",
        "from scipy.sparse import csr_matrix\n",
        "\n",
        "arr = np.array([[0,0,0],[0,0,1],[1,0,2]])\n",
        "newarr = csr_matrix(arr).tocsc()\n",
        "print(newarr)"
      ],
      "metadata": {
        "colab": {
          "base_uri": "https://localhost:8080/"
        },
        "id": "SquBbJAEaDgN",
        "outputId": "e8d946ed-585d-48e7-f64d-1d0c59bb02a2"
      },
      "execution_count": null,
      "outputs": [
        {
          "output_type": "stream",
          "name": "stdout",
          "text": [
            "<Compressed Sparse Column sparse matrix of dtype 'int64'\n",
            "\twith 3 stored elements and shape (3, 3)>\n",
            "  Coords\tValues\n",
            "  (2, 0)\t1\n",
            "  (1, 2)\t1\n",
            "  (2, 2)\t2\n"
          ]
        }
      ]
    },
    {
      "cell_type": "markdown",
      "source": [
        "***Graphs***\n",
        "\n",
        "Graphs are an essential data structure.\n",
        "\n",
        "SciPy provides us with the module scipy.sparse.csgraph for working with such data structures.\n",
        "\n",
        "**Adjacency Matrix**\n",
        "\n",
        "Ajacency matrix is a nxn matrix where n is the number of elements in a graph.\n",
        "\n",
        "And the values represents the connection between elements.\n",
        "\n",
        "      A\n",
        "     /   \\\n",
        "    /     \\\n",
        "    B     C\n",
        "  \n",
        "\n",
        "  - A & B are connected with 1.\n",
        "  - A & C are connected with weight 2.\n",
        "  - C & B is not connected.\n",
        "\n",
        "  \n",
        "**Connencted Components**\n",
        "\n",
        "Find all of the connected components with the connected_components() method."
      ],
      "metadata": {
        "id": "nMDZ7mnCaxEn"
      }
    },
    {
      "cell_type": "code",
      "source": [
        "import numpy as np\n",
        "from scipy.sparse.csgraph import connected_components\n",
        "from scipy.sparse import csr_matrix\n",
        "\n",
        "arr = np.array([\n",
        "    [0,1,2],\n",
        "    [1,0,0],\n",
        "    [2,0,0]\n",
        "])\n",
        "\n",
        "newarr = csr_matrix(arr)\n",
        "print(connected_components(newarr))"
      ],
      "metadata": {
        "colab": {
          "base_uri": "https://localhost:8080/"
        },
        "id": "tInbaZMLbCG_",
        "outputId": "242ee0f9-9da7-49f7-e292-c85fa4aad82e"
      },
      "execution_count": null,
      "outputs": [
        {
          "output_type": "stream",
          "name": "stdout",
          "text": [
            "(1, array([0, 0, 0], dtype=int32))\n"
          ]
        }
      ]
    },
    {
      "cell_type": "markdown",
      "source": [],
      "metadata": {
        "id": "EQhIqGcTbA0O"
      }
    },
    {
      "cell_type": "markdown",
      "source": [
        "**Dijkstra**\n",
        "\n",
        "Use the dijkstra method to find the shortest path in a graph from one element to another.\n",
        "\n",
        "It takes following arguments\n",
        "\n",
        "1. **return_predecessors:** boolean\n",
        "2. **indices:** index of the element to return all paths from the element only.\n",
        "3. **limit:** max weight of path"
      ],
      "metadata": {
        "id": "pIAiXisecZQZ"
      }
    },
    {
      "cell_type": "code",
      "source": [
        "import numpy as np\n",
        "from scipy.sparse.csgraph import dijkstra\n",
        "from scipy.sparse import csr_matrix\n",
        "\n",
        "arr = np.array([\n",
        "    [0,1,2],\n",
        "    [1,0,0],\n",
        "    [2,0,0]\n",
        "])\n",
        "\n",
        "newarr = csr_matrix(arr)\n",
        "print(dijkstra(newarr,return_predecessors=True,indices=0))\n"
      ],
      "metadata": {
        "colab": {
          "base_uri": "https://localhost:8080/"
        },
        "id": "6DP8RMgac1qA",
        "outputId": "61aea6f3-898d-448e-9481-700ad9c4fe29"
      },
      "execution_count": null,
      "outputs": [
        {
          "output_type": "stream",
          "name": "stdout",
          "text": [
            "(array([0., 1., 2.]), array([-9999,     0,     0], dtype=int32))\n"
          ]
        }
      ]
    },
    {
      "cell_type": "markdown",
      "source": [
        "**Floyd Warshall**\n",
        "\n",
        "Use the floyd_warshall() method to find shortest path between all pairs of elements."
      ],
      "metadata": {
        "id": "5VlEs_7VdR3-"
      }
    },
    {
      "cell_type": "code",
      "source": [
        "import numpy as np\n",
        "from scipy.sparse.csgraph import floyd_warshall\n",
        "from scipy.sparse import csr_matrix\n",
        "\n",
        "arr = np.array([\n",
        "    [0,1,2],\n",
        "    [1,0,0],\n",
        "    [2,0,0]\n",
        "])\n",
        "\n",
        "newarr = csr_matrix(arr)\n",
        "print(floyd_warshall(newarr, return_predecessors=True))\n"
      ],
      "metadata": {
        "colab": {
          "base_uri": "https://localhost:8080/"
        },
        "id": "s2Dhw11Qda03",
        "outputId": "c9ceccd8-ccb2-4c2c-f43b-8dab14e4cd48"
      },
      "execution_count": null,
      "outputs": [
        {
          "output_type": "stream",
          "name": "stdout",
          "text": [
            "(array([[0., 1., 2.],\n",
            "       [1., 0., 3.],\n",
            "       [2., 3., 0.]]), array([[-9999,     0,     0],\n",
            "       [    1, -9999,     0],\n",
            "       [    2,     0, -9999]], dtype=int32))\n"
          ]
        }
      ]
    },
    {
      "cell_type": "markdown",
      "source": [
        "**Bellman Ford**\n",
        "\n",
        "The bellman_ford() method can also find the shortest path between all pairs of elements, but this method can handle negative weights as well.\n"
      ],
      "metadata": {
        "id": "Rr1wvBbEd5sy"
      }
    },
    {
      "cell_type": "code",
      "source": [
        "import numpy as np\n",
        "from scipy.sparse.csgraph import bellman_ford\n",
        "from scipy.sparse import csr_matrix\n",
        "\n",
        "arr = np.array([\n",
        "    [0,-1,2],\n",
        "    [1,0,0],\n",
        "    [2,0,0]\n",
        "])\n",
        "\n",
        "newarr = csr_matrix(arr)\n",
        "print(bellman_ford(newarr,return_predecessors=True,indices=0))"
      ],
      "metadata": {
        "colab": {
          "base_uri": "https://localhost:8080/"
        },
        "id": "pVJx5P8QeG3P",
        "outputId": "fad19e1c-3e34-491f-b397-020aed0ee913"
      },
      "execution_count": null,
      "outputs": [
        {
          "output_type": "stream",
          "name": "stdout",
          "text": [
            "(array([ 0., -1.,  2.]), array([-9999,     0,     0], dtype=int32))\n"
          ]
        }
      ]
    },
    {
      "cell_type": "markdown",
      "source": [
        "**Depth First Order**\n",
        "\n",
        "The depth_first_order()  method returns a depth first traversal from a node.\n",
        "\n",
        "This function takes following arguments\n",
        "\n",
        "1. the graph.\n",
        "2. the starting element to traverse graph from."
      ],
      "metadata": {
        "id": "6RH8VMbVemD_"
      }
    },
    {
      "cell_type": "code",
      "source": [
        "import numpy as np\n",
        "from scipy.sparse.csgraph import depth_first_order\n",
        "from scipy.sparse import csr_matrix\n",
        "\n",
        "arr = np.array([\n",
        "    [0,1,0,1],\n",
        "    [1,1,1,1],\n",
        "    [2,1,1,0],\n",
        "    [0,1,0,1]\n",
        "])\n",
        "\n",
        "newarr = csr_matrix(arr)\n",
        "print(depth_first_order(newarr,1))"
      ],
      "metadata": {
        "colab": {
          "base_uri": "https://localhost:8080/"
        },
        "id": "ItvRySLXe09j",
        "outputId": "0a735e4d-a139-4896-af8b-95d0574be117"
      },
      "execution_count": null,
      "outputs": [
        {
          "output_type": "stream",
          "name": "stdout",
          "text": [
            "(array([1, 0, 3, 2], dtype=int32), array([    1, -9999,     1,     0], dtype=int32))\n"
          ]
        }
      ]
    },
    {
      "cell_type": "markdown",
      "source": [
        "**BReath Firsth Order**\n",
        "\n",
        "The breadth_first_order() method returns a breadth first traversal from a node.\n",
        "\n",
        "This function takes following arguments:\n",
        "1. The graph.\n",
        "2. The starting element to raverse graph from ."
      ],
      "metadata": {
        "id": "RtALMZnGghRm"
      }
    },
    {
      "cell_type": "code",
      "source": [
        "import numpy as np\n",
        "from scipy.sparse.csgraph import breadth_first_order\n",
        "from scipy.sparse import csr_matrix\n",
        "\n",
        "arr = np.array([\n",
        "    [0,1,0,1],\n",
        "    [1,1,1,1],\n",
        "    [2,1,1,0],\n",
        "    [0,1,0,1]\n",
        "])\n",
        "\n",
        "newarr = csr_matrix(arr)\n",
        "print(breadth_first_order(newarr,1))"
      ],
      "metadata": {
        "colab": {
          "base_uri": "https://localhost:8080/"
        },
        "id": "EGFL8JnFg1zj",
        "outputId": "9ad44127-5e15-4bca-c087-c788e46f027f"
      },
      "execution_count": null,
      "outputs": [
        {
          "output_type": "stream",
          "name": "stdout",
          "text": [
            "(array([1, 0, 2, 3], dtype=int32), array([    1, -9999,     1,     1], dtype=int32))\n"
          ]
        }
      ]
    },
    {
      "cell_type": "markdown",
      "source": [
        "**Triangulation**\n",
        "\n",
        "A triangulation of a polygon is to divide the polygon into multiple triangles with which we can compute an area of the polygon.\n",
        "\n",
        "A Triangulation with points  means creating surface composed triangles in which all of the given points are on at least one vertex of any triangle in the surface.\n",
        "\n",
        "One method to generate these triangulations through points in the Delaunay() Triangulation."
      ],
      "metadata": {
        "id": "xi_e9icWhh89"
      }
    },
    {
      "cell_type": "code",
      "source": [
        "import numpy as np\n",
        "from scipy.spatial import Delaunay\n",
        "import matplotlib.pyplot as plt\n",
        "\n",
        "points = np.array([\n",
        "  [2, 4],\n",
        "  [3, 4],\n",
        "  [3, 0],\n",
        "  [2, 2],\n",
        "  [4, 1]\n",
        "])\n",
        "\n",
        "simplices = Delaunay(points).simplices\n",
        "\n",
        "plt.triplot(points[:, 0], points[:, 1], simplices)\n",
        "plt.scatter(points[:, 0], points[:, 1], color='r')\n",
        "\n",
        "plt.show()"
      ],
      "metadata": {
        "colab": {
          "base_uri": "https://localhost:8080/",
          "height": 430
        },
        "id": "rP5e5UmwhcwL",
        "outputId": "8809fc9f-343a-47e9-c0eb-aa85c1710e46"
      },
      "execution_count": null,
      "outputs": [
        {
          "output_type": "display_data",
          "data": {
            "text/plain": [
              "<Figure size 640x480 with 1 Axes>"
            ],
            "image/png": "[encoded data removed]"
          },
          "metadata": {}
        }
      ]
    },
    {
      "cell_type": "markdown",
      "source": [
        "**Convex Hull**\n",
        "\n",
        "A convex hull is the smallest polygon that covers all of the given points.\n",
        "\n",
        "Use the ConvexHull() method to create a Convex Hull."
      ],
      "metadata": {
        "id": "tlp0tNwqiIL_"
      }
    },
    {
      "cell_type": "code",
      "source": [
        "import numpy as np\n",
        "from scipy.spatial import ConvexHull\n",
        "import matplotlib.pyplot as plt\n",
        "\n",
        "points = np.array([\n",
        "    [2, 4],\n",
        "  [3, 4],\n",
        "  [3, 0],\n",
        "  [2, 2],\n",
        "  [4, 1],\n",
        "  [1, 2],\n",
        "  [5, 0],\n",
        "  [3, 1],\n",
        "  [1, 2],\n",
        "  [0, 2]\n",
        "])\n",
        "\n",
        "hull = ConvexHull(points)\n",
        "hull_points = hull.simplices\n",
        "\n",
        "plt.scatter(points[:,0],points[:,1])\n",
        "for simplex in hull_points:\n",
        "  plt.plot(points[simplex,0],points[simplex,1],'k-')\n",
        "plt.show()"
      ],
      "metadata": {
        "colab": {
          "base_uri": "https://localhost:8080/",
          "height": 430
        },
        "id": "O6qdO2fiiVIB",
        "outputId": "b8bf9b80-bfc2-4a68-d730-af97f4141242"
      },
      "execution_count": null,
      "outputs": [
        {
          "output_type": "display_data",
          "data": {
            "text/plain": [
              "<Figure size 640x480 with 1 Axes>"
            ],
            "image/png": "[encoded data removed]"
          },
          "metadata": {}
        }
      ]
    },
    {
      "cell_type": "markdown",
      "source": [
        "**KDTrees**\n",
        "\n",
        "KDTrees are a datastructure optimized for newarest neighbor queries.\n",
        "\n",
        "E.g. in a set of points using KDTrees we can efficiently ask which points are nearest to a certain given point.\n",
        "\n",
        "The KDTree() method returns a KDTree object.\n",
        "\n",
        "The query() method returns the distance to the nearest neighbor and the location of the neighbors.\n",
        "\n"
      ],
      "metadata": {
        "id": "kZgY8TCZi97o"
      }
    },
    {
      "cell_type": "code",
      "source": [
        "from scipy.spatial import KDTree\n",
        "\n",
        "points = [(1, -1), (2, 3), (-2, 3), (2, -3)]\n",
        "kdtreee = KDTree(points)\n",
        "res = kdtreee.query((1,1))\n",
        "print(res)"
      ],
      "metadata": {
        "colab": {
          "base_uri": "https://localhost:8080/"
        },
        "id": "hsBa8cj_jTqs",
        "outputId": "8ba26998-15d2-44a3-ff17-b4c9fff3a2b2"
      },
      "execution_count": null,
      "outputs": [
        {
          "output_type": "stream",
          "name": "stdout",
          "text": [
            "(2.0, np.int64(0))\n"
          ]
        }
      ]
    },
    {
      "cell_type": "markdown",
      "source": [
        "**Distance Matrix**\n",
        "\n",
        "There are many distance metrics used to find various types of distances between two points in data science, Euclidean distsance, cosine distance etc.\n",
        "\n",
        "The distance between two vectors may not only be the length of straight line between them, it can also be the angle between them from origin, or number of unit steps required etc.\n",
        "\n",
        "Many of the Machine Learning algorithm's performance depends greatly on distance metrics.\n",
        "\n",
        "**Euclidean Distance**\n",
        "\n",
        "Find the euclidean distance between given points.\n",
        "\n"
      ],
      "metadata": {
        "id": "ria6xq0CjsEp"
      }
    },
    {
      "cell_type": "code",
      "source": [
        "from scipy.spatial.distance import euclidean\n",
        "\n",
        "p1 = (1,0)\n",
        "p2 = (10,2)\n",
        "\n",
        "res = euclidean(p1,p2)\n",
        "print(res)"
      ],
      "metadata": {
        "colab": {
          "base_uri": "https://localhost:8080/"
        },
        "id": "Auo2chNQkVVG",
        "outputId": "300e7ca5-107f-4d53-ea51-8af98e3a5b6f"
      },
      "execution_count": null,
      "outputs": [
        {
          "output_type": "stream",
          "name": "stdout",
          "text": [
            "9.219544457292887\n"
          ]
        }
      ]
    },
    {
      "cell_type": "markdown",
      "source": [
        "**Cityblock Distance**\n",
        "\n",
        "Is the distance computed using 4 degrees of movement.\n"
      ],
      "metadata": {
        "id": "ipcX011Ckl2G"
      }
    },
    {
      "cell_type": "code",
      "source": [
        "from scipy.spatial.distance import cityblock\n",
        "\n",
        "p1 = (1,0)\n",
        "p2 = (10,2)\n",
        "\n",
        "res = cityblock(p1,p2)\n",
        "\n",
        "print(res)"
      ],
      "metadata": {
        "colab": {
          "base_uri": "https://localhost:8080/"
        },
        "id": "ZZz9LDDhktNu",
        "outputId": "4d63a1f4-79b0-434b-f619-82fc344de435"
      },
      "execution_count": null,
      "outputs": [
        {
          "output_type": "stream",
          "name": "stdout",
          "text": [
            "11\n"
          ]
        }
      ]
    },
    {
      "cell_type": "markdown",
      "source": [
        "**Cosine Distance**\n",
        "\n",
        "Is the value of cosine angle between the two points A and B"
      ],
      "metadata": {
        "id": "zqUzlISVk5wO"
      }
    },
    {
      "cell_type": "code",
      "source": [
        "from scipy.spatial.distance import cosine\n",
        "\n",
        "p1 = (1,0)\n",
        "p2 = (10,2)\n",
        "\n",
        "res = cosine(p1,p2)\n",
        "print(res)"
      ],
      "metadata": {
        "colab": {
          "base_uri": "https://localhost:8080/"
        },
        "id": "AlHEIgxWlBCn",
        "outputId": "882832dc-1ac2-44cc-86fa-f67011d55b50"
      },
      "execution_count": null,
      "outputs": [
        {
          "output_type": "stream",
          "name": "stdout",
          "text": [
            "0.019419324309079777\n"
          ]
        }
      ]
    },
    {
      "cell_type": "markdown",
      "source": [
        "**Hamming Distance**\n",
        "\n",
        "Is the proportion of bits where two bits are different.\n",
        "\n",
        "It's a way to measure distance for binary sequences.\n"
      ],
      "metadata": {
        "id": "TANlv2vAlWDE"
      }
    },
    {
      "cell_type": "code",
      "source": [
        "from scipy.spatial.distance import hamming\n",
        "\n",
        "p1 = (True, False, True)\n",
        "p2 = (False, True, True)\n",
        "\n",
        "res = hamming(p1,p2)\n",
        "print(res)"
      ],
      "metadata": {
        "colab": {
          "base_uri": "https://localhost:8080/"
        },
        "id": "I7Nuab1rlhZW",
        "outputId": "846f6b5a-4709-40a7-b000-a0696156cee3"
      },
      "execution_count": null,
      "outputs": [
        {
          "output_type": "stream",
          "name": "stdout",
          "text": [
            "0.6666666666666666\n"
          ]
        }
      ]
    },
    {
      "cell_type": "markdown",
      "source": [
        "**Matlab Arrays**\n",
        "\n",
        "Scipy provides us with the module scipy.io, which has functions for working with matlab arrays.\n",
        "\n",
        "\n",
        "**Exporting Data in Matlab Format**\n",
        "\n",
        "The `savemat()` function allows us to export data in matlab format.\n",
        "\n",
        "1. filename - the file name for saving data.\n",
        "2. mdict - a dictionary containing the data.\n",
        "3. do_compression- a boolean value that specifies whether to compress the result or not. Default False.\n",
        "\n",
        "\n",
        "Note: The example below saves a file name \"arr.mat\" on your computer.\n",
        "\n",
        "To open the file, check out the \"Import data from matlab format\" exmple below."
      ],
      "metadata": {
        "id": "e1XtRY4PWXDJ"
      }
    },
    {
      "cell_type": "code",
      "source": [
        "from scipy import io\n",
        "import numpy as np\n",
        "\n",
        "arr = np.arange(10)\n",
        "\n",
        "io.savemat('arr.mat',{\"vec\":arr})\n",
        "\n",
        "print(arr)"
      ],
      "metadata": {
        "colab": {
          "base_uri": "https://localhost:8080/"
        },
        "id": "5_7xNHI-W7Iu",
        "outputId": "a541d8fe-9b9e-45ff-be84-37c63a9b394b"
      },
      "execution_count": 4,
      "outputs": [
        {
          "output_type": "stream",
          "name": "stdout",
          "text": [
            "[0 1 2 3 4 5 6 7 8 9]\n"
          ]
        }
      ]
    },
    {
      "cell_type": "markdown",
      "source": [
        "**Import Data from Matlab Format**\n",
        "\n",
        "The `loadmat()` function allows us to import data from a Matlab file.\n",
        "\n",
        "The function takes one required parameter:\n",
        "\n",
        "**filename -** the file name of the saved data.\n",
        "\n"
      ],
      "metadata": {
        "id": "jjQGIROUXqwC"
      }
    },
    {
      "cell_type": "code",
      "source": [
        "from scipy import io\n",
        "import numpy as np\n",
        "\n",
        "arr = np.array([0, 1, 2, 3, 4, 5, 6, 7, 8, 9,])\n",
        "\n",
        "io.savemat('arr.mat', {\"vec\": arr})\n",
        "\n",
        "mydata = io.loadmat('arr.mat')\n",
        "\n",
        "print(mydata)"
      ],
      "metadata": {
        "colab": {
          "base_uri": "https://localhost:8080/"
        },
        "id": "12FiymKOX9M_",
        "outputId": "7a65c461-1521-4502-a3f6-12f9ba237a45"
      },
      "execution_count": 6,
      "outputs": [
        {
          "output_type": "stream",
          "name": "stdout",
          "text": [
            "{'__header__': b'MATLAB 5.0 MAT-file Platform: posix, Created on: Tue Aug 12 17:43:33 2025', '__version__': '1.0', '__globals__': [], 'vec': array([[0, 1, 2, 3, 4, 5, 6, 7, 8, 9]])}\n"
          ]
        }
      ]
    },
    {
      "cell_type": "markdown",
      "source": [
        "**Interpolation**\n",
        "\n",
        "Interpolation is a method for generating points between given points.\n",
        "\n",
        "Interpolation has many usage, in Machine Learning we ofter deal with missing data in a dataset, interpolation is often used to substitute those values.\n",
        "\n",
        "This method of filling values is called imputation.\n",
        "\n",
        "Apart from imputation, interpolation is often used where we need to smooth the descrete pints in a dataset.\n",
        "\n",
        "\n",
        "**!D Interpolation**\n",
        "\n",
        "The function `interp1d()` is used to interpolate a distribution with 1 variable.\n",
        "\n",
        "It takes x and y points and returns a callable function that can be called with new x and return corresponding y.\n",
        "\n"
      ],
      "metadata": {
        "id": "smA6uXqHZNYq"
      }
    },
    {
      "cell_type": "code",
      "source": [
        "from scipy.interpolate import interp1d\n",
        "import numpy as np\n",
        "\n",
        "xs = np.arange(10)\n",
        "ys = 2 * xs + 1\n",
        "\n",
        "interp_func = interp1d(xs,ys)\n",
        "\n",
        "newarr = interp_func(np.arange(2.1,3,0.1))\n",
        "\n",
        "print(newarr)"
      ],
      "metadata": {
        "colab": {
          "base_uri": "https://localhost:8080/"
        },
        "id": "stm45EhQaHRk",
        "outputId": "3cc32be1-7916-4528-9766-8a15486b2caf"
      },
      "execution_count": 7,
      "outputs": [
        {
          "output_type": "stream",
          "name": "stdout",
          "text": [
            "[5.2 5.4 5.6 5.8 6.  6.2 6.4 6.6 6.8]\n"
          ]
        }
      ]
    },
    {
      "cell_type": "markdown",
      "source": [
        "**Note:** That new xs should be in same range as of the old xs, meaning that we can't call `interp_func()` with values higher than 10 or less than 0."
      ],
      "metadata": {
        "id": "0WnVSAEoam9U"
      }
    },
    {
      "cell_type": "markdown",
      "source": [
        "**Spline Interpolation**\n",
        "\n",
        "In 1D interpolation the points are fitted for a single curve whereas in Spline interpolation the points are fitted against a piecewise function defined with polynomials called splines.\n",
        "\n",
        "The `UnivariateSpline()` function takes xs and ys and produce a callable function that can be called with new xs.\n",
        "\n",
        "\n",
        "*Piecewise function:** A function that has different definition for different ranges.\n",
        "\n"
      ],
      "metadata": {
        "id": "Mwbo2gb1a47z"
      }
    },
    {
      "cell_type": "code",
      "source": [
        "from scipy.interpolate import UnivariateSpline\n",
        "import numpy as np\n",
        "\n",
        "xs = np.arange(10)\n",
        "ys = xs**2 + np.sin(xs) + 1\n",
        "\n",
        "interp_func = UnivariateSpline(xs, ys)\n",
        "\n",
        "newarr = interp_func(np.arange(2.1, 3, 0.1))\n",
        "\n",
        "print(newarr)"
      ],
      "metadata": {
        "colab": {
          "base_uri": "https://localhost:8080/"
        },
        "id": "20jDd5OnbitZ",
        "outputId": "8859040d-9d70-4da9-d09c-bef976b7a1e1"
      },
      "execution_count": 9,
      "outputs": [
        {
          "output_type": "stream",
          "name": "stdout",
          "text": [
            "[5.62826474 6.03987348 6.47131994 6.92265019 7.3939103  7.88514634\n",
            " 8.39640439 8.92773053 9.47917082]\n"
          ]
        }
      ]
    },
    {
      "cell_type": "markdown",
      "source": [
        "**Interpolation with Radial Basis Function**\n",
        "\n",
        "Radial basis function is a function that is defined corresponding to a fixed reference point.\n",
        "\n",
        "The `Rbf()` function also takes xs and ys as arguments and produces a callable function that can be called with new xs."
      ],
      "metadata": {
        "id": "znEvHr9LcIr5"
      }
    },
    {
      "cell_type": "code",
      "source": [
        "from scipy.interpolate import Rbf\n",
        "import numpy as np\n",
        "\n",
        "xs = np.arange(10)\n",
        "ys = xs**2 + np.sin(xs) + 1\n",
        "\n",
        "interp_func = Rbf(xs, ys)\n",
        "\n",
        "newarr = interp_func(np.arange(2.1, 3, 0.1))\n",
        "\n",
        "print(newarr)"
      ],
      "metadata": {
        "colab": {
          "base_uri": "https://localhost:8080/"
        },
        "id": "OTgVNdb1ciHz",
        "outputId": "c39f5df2-e0dd-4b64-fdfe-050230dc95e3"
      },
      "execution_count": 11,
      "outputs": [
        {
          "output_type": "stream",
          "name": "stdout",
          "text": [
            "[6.25748981 6.62190817 7.00310702 7.40121814 7.8161443  8.24773402\n",
            " 8.69590519 9.16070828 9.64233874]\n"
          ]
        }
      ]
    },
    {
      "cell_type": "markdown",
      "source": [
        "**Statistical Significance Test**\n",
        "\n",
        "In statistics, statistical significance means that the result that was produced has a reason behind it, it was not produced randomly or by chance.\n",
        "\n",
        "SciPy provides us with a module called `scipy.stats` which has functions for performing statistical significance tests.\n",
        "\n",
        "\n",
        "\n",
        "**T-Test**\n",
        "\n",
        "T-tests are used to determine if there is significant deference between means of two variables and lets us know if they belong to the same distribution.\n",
        "\n",
        "\n",
        "The function `ttest_ind()` takes two samples of same size and produces a tuple of t-statistic and p-value."
      ],
      "metadata": {
        "id": "fnMpIsfhdEFk"
      }
    },
    {
      "cell_type": "code",
      "source": [
        "import numpy as np\n",
        "from scipy.stats import ttest_ind\n",
        "\n",
        "v1 = np.random.normal(size=100)\n",
        "v2 = np.random.normal(size=100)\n",
        "\n",
        "res = ttest_ind(v1,v2)\n",
        "\n",
        "print(res)\n",
        "\n",
        "res = ttest_ind(v1,v2).pvalue\n",
        "print(res)"
      ],
      "metadata": {
        "colab": {
          "base_uri": "https://localhost:8080/"
        },
        "id": "NVyMXrNPeDnX",
        "outputId": "97a3551c-a4e3-442a-8bab-d45fab9e3510"
      },
      "execution_count": 13,
      "outputs": [
        {
          "output_type": "stream",
          "name": "stdout",
          "text": [
            "TtestResult(statistic=np.float64(-0.6991298293589612), pvalue=np.float64(0.48529134351823633), df=np.float64(198.0))\n",
            "0.48529134351823633\n"
          ]
        }
      ]
    },
    {
      "cell_type": "markdown",
      "source": [
        "**KS-Test**\n",
        "\n",
        "KS test is used to check if given values follow a distribution.\n",
        "\n",
        "The function takes the value to be tested and the CDF as two paramters.\n",
        "\n",
        "**A CDF can be either a string or a callable function that returns the probability.**\n",
        "\n"
      ],
      "metadata": {
        "id": "8nq7j-VQe02i"
      }
    },
    {
      "cell_type": "code",
      "source": [
        "import numpy as np\n",
        "from scipy.stats import kstest\n",
        "\n",
        "v = np.random.normal(size=100)\n",
        "\n",
        "res = kstest(v,'norm')\n",
        "\n",
        "print(res)"
      ],
      "metadata": {
        "colab": {
          "base_uri": "https://localhost:8080/"
        },
        "id": "gRXBGobRfJRO",
        "outputId": "8f580c66-a444-4560-c5e3-b2f9800f6de5"
      },
      "execution_count": 14,
      "outputs": [
        {
          "output_type": "stream",
          "name": "stdout",
          "text": [
            "KstestResult(statistic=np.float64(0.05300016497100768), pvalue=np.float64(0.9272620539236434), statistic_location=np.float64(0.7620999881340258), statistic_sign=np.int8(1))\n"
          ]
        }
      ]
    },
    {
      "cell_type": "markdown",
      "source": [
        "**Statistical Description of Data**\n",
        "\n",
        "\n",
        "In order to see a summary of values in an array, we can use the `describe()` function.\n",
        "\n",
        "1. number of observations\n",
        "2. minimum and maximum values = minmax\n",
        "3. mean\n",
        "4. variance\n",
        "5. skewness\n",
        "6. kurtosis"
      ],
      "metadata": {
        "id": "wDTQ7N_nfXBX"
      }
    },
    {
      "cell_type": "code",
      "source": [
        "import numpy as np\n",
        "from scipy.stats import describe\n",
        "\n",
        "v = np.random.normal(size=100)\n",
        "res = describe(v)\n",
        "\n",
        "print(res)"
      ],
      "metadata": {
        "colab": {
          "base_uri": "https://localhost:8080/"
        },
        "id": "lqlpK_fOfshq",
        "outputId": "a6d0129e-e5c6-4ede-8db5-6518010041ae"
      },
      "execution_count": 15,
      "outputs": [
        {
          "output_type": "stream",
          "name": "stdout",
          "text": [
            "DescribeResult(nobs=np.int64(100), minmax=(np.float64(-3.13599742176386), np.float64(3.4198685282729024)), mean=np.float64(0.010978750209292282), variance=np.float64(1.0432669231964444), skewness=np.float64(0.02158969767716176), kurtosis=np.float64(0.9377681606129586))\n"
          ]
        }
      ]
    },
    {
      "cell_type": "markdown",
      "source": [
        "**Normality Tests**\n",
        "\n",
        "Normality tests are based on the skewnewss and kurtosis.\n",
        "\n",
        "The normaltest() functino returns p value for the null hypothesis.\n",
        "\n",
        "**Skewness**\n",
        "\n",
        "- A measure of symmetry in data.\n",
        "- For normal distributions it is 0.\n",
        "- If it is negative, it means the data is skewed left.\n",
        "- If it is positive it means the data is skewed right.\n",
        "\n",
        "\n",
        "**Kurtosis**\n",
        "\n",
        "A measure of whether the data is heavy or lightly tailed to a normal distribution.\n",
        "\n",
        "Positive kurotsis means heay tailed.\n",
        "\n",
        "Negative kurtosis means lightly tailed.\n"
      ],
      "metadata": {
        "id": "GBzi-Spuf7FN"
      }
    },
    {
      "cell_type": "code",
      "source": [
        "import numpy as np\n",
        "from scipy.stats import skew, kurtosis\n",
        "\n",
        "v = np.random.normal(size=100)\n",
        "\n",
        "print(skew(v))\n",
        "print(kurtosis(v))"
      ],
      "metadata": {
        "colab": {
          "base_uri": "https://localhost:8080/"
        },
        "id": "ACTYyaQ3gn5W",
        "outputId": "881937e1-35f3-43bc-a83a-4acb29696d4d"
      },
      "execution_count": 16,
      "outputs": [
        {
          "output_type": "stream",
          "name": "stdout",
          "text": [
            "-0.27843792856293137\n",
            "0.3295738463351179\n"
          ]
        }
      ]
    }
  ]
}